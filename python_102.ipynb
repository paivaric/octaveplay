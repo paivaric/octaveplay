{
 "cells": [
  {
   "cell_type": "markdown",
   "metadata": {},
   "source": [
    "# Index:\n",
    "\n",
    "1. Lists and sets\n",
    "2. Dictionaries\n",
    "3. Tuples\n",
    "4. Strings\n",
    "5. For loops\n",
    "6. List comprehensions\n",
    "7. Functions and parameters\n",
    "8. Classes\n",
    "9. Magic methods\n",
    "10. Exceptions\n",
    "11. Generators\n"
   ]
  },
  {
   "cell_type": "markdown",
   "metadata": {},
   "source": [
    "# 1. Lists and sets"
   ]
  },
  {
   "cell_type": "code",
   "execution_count": 5,
   "metadata": {
    "collapsed": false
   },
   "outputs": [
    {
     "name": "stdout",
     "output_type": "stream",
     "text": [
      "---------- creating lists and sets -----------\n[1, 2, 3, 4, 5, 5, 4, 3, 2, 1, 0]\nset([0, 1, 2, 3, 4, 5])\nset([3, 4, 5, 6, 7])\n\n2. ---------- size of things -----------\n11\n6\n13\n\n3. ---------- get by index -----------\n1\n0\n0\n1\nsets are not sorted structures, so you can't use [brackets on them]\n[0, 1, 2, 3, 4, 5]\n\n4. ---------- set/list union and difference -----------\nset([0, 1, 2])\nset([0, 1, 2, 3, 4, 5, 6, 7])\nset([0, 1, 2, 3, 4, 5, 6, 7])\nset([3, 4, 5])\n[1, 2, 3, 4, 5, 5, 4, 3, 2, 1, 0, 10, 20, -30]\n[]\n\n5. ---------- list slicing -----------\n('1:5 -->', [2, 3, 4, 5])\n('5: -->', [5, 4, 3, 2, 1, 0])\n('5:-2 -->', [5, 4, 3, 2])\n(':-2 -->', [1, 2, 3, 4, 5, 5, 4, 3, 2])\n('-2: -->', [1, 0])\n(': -->', [1, 2, 3, 4, 5, 5, 4, 3, 2, 1, 0])\n"
     ]
    }
   ],
   "source": [
    "a = [1, 2, 3, 4, 5, 5, 4, 3, 2, 1, 0]  # this is a list\n",
    "\n",
    "sa = set(a)  # this is a set, as in math class\n",
    "anotherset = {3, 4, 5, 6, 7}  # syntactic sugar for declaring sets (Python is a very \"sweet\" language)\n",
    "\n",
    "print('---------- creating lists and sets -----------')\n",
    "print(a)\n",
    "print(sa)\n",
    "print(anotherset)\n",
    "\n",
    "print('\\n2. ---------- size of things -----------')\n",
    "print(len(a))  # len is a function that knows the size of THINGS\n",
    "print(len(sa))\n",
    "print(len('I am a string'))\n",
    "\n",
    "print('\\n3. ---------- get by index -----------')\n",
    "print(a[0])  # OK, you expected this\n",
    "print(a[10])\n",
    "print(a[-1])  # but maybe not this\n",
    "print(a[-11])\n",
    "try:\n",
    "    sa[0]\n",
    "except TypeError as e:\n",
    "    print(\"sets are not sorted structures, so you can't use [brackets on them]\")\n",
    "print(list(sa))  # but you can convert a set to a list (don't assume any particular order)\n",
    "\n",
    "print('\\n4. ---------- set/list union and difference -----------')\n",
    "print(sa - anotherset)  # You can subtract sets\n",
    "print(sa.union(anotherset))\n",
    "print(sa | anotherset)  # you can do this way to\n",
    "print(sa & anotherset)  # and intersect like this\n",
    "print(a + [10, 20, -30])  # You can add lists\n",
    "print([] + [])  # You gotta try this in javascript... :-)\n",
    "\n",
    "print('\\n5. ---------- list slicing -----------')\n",
    "print('1:5 -->', a[1:5])  # last index is not included\n",
    "print('5: -->', a[5:])\n",
    "print('5:-2 -->', a[5:-2])\n",
    "print(':-2 -->', a[:-2])\n",
    "print('-2: -->', a[-2:])\n",
    "print(': -->', a[:])  # this is usually used as a hack to create a shallow copy of a list"
   ]
  },
  {
   "cell_type": "markdown",
   "metadata": {},
   "source": [
    "# 2. Dictionaries"
   ]
  },
  {
   "cell_type": "code",
   "execution_count": 50,
   "metadata": {
    "collapsed": false
   },
   "outputs": [
    {
     "name": "stdout",
     "output_type": "stream",
     "text": [
      "3\n",
      "1\n",
      "['a', 'c', 'd']\n"
     ]
    }
   ],
   "source": [
    "d = {'a': 1, 'b': 'two', 'c': 30}  # this is a dictionary\n",
    "d['d'] = 400  # this is how you add something to it\n",
    "del d['b']  # And this is how you remove stuff\n",
    "\n",
    "print(len(d))  # Like I told you, len knows the size of THINGS\n",
    "print(d['a'])\n",
    "print(d.keys())  # If it were me I would return a set, but this guy resturns a list. Works too."
   ]
  },
  {
   "cell_type": "markdown",
   "metadata": {},
   "source": [
    "# 3. Tuples"
   ]
  },
  {
   "cell_type": "code",
   "execution_count": 51,
   "metadata": {
    "collapsed": false
   },
   "outputs": [
    {
     "name": "stdout",
     "output_type": "stream",
     "text": [
      "(1, 2, 3)\n",
      "1\n",
      "(1,)\n",
      "('len(t) = ', 3)\n",
      "('len(t1) = ', 1)\n",
      "{'a': 1, 'c': 30, 'd': 400, (1, 2, 3): 'really?'}\n",
      "2\n"
     ]
    }
   ],
   "source": [
    "t = (1, 2, 3)  # This is a tuple. Think of a tuple as an IMMUTABLE list.\n",
    "notatuple = (1)  # This is just a number\n",
    "t1 = (1,)  # This is a tuple\n",
    "\n",
    "print(t)\n",
    "print(notatuple)\n",
    "print(t1)\n",
    "\n",
    "print('len(t) = ', len(t))\n",
    "print('len(t1) = ', len(t1))  # but you already knew that\n",
    "\n",
    "d[t] = 'really?'  # But did you know tuples could be dictionary keys? Crazy shit!\n",
    "\n",
    "print(d)\n",
    "\n",
    "x1, x2, x3 = t  # triple assignment, yay! (This also works with lists)\n",
    "print(x2)"
   ]
  },
  {
   "cell_type": "markdown",
   "metadata": {},
   "source": [
    "# 4. Strings"
   ]
  },
  {
   "cell_type": "code",
   "execution_count": 53,
   "metadata": {
    "collapsed": false
   },
   "outputs": [
    {
     "name": "stdout",
     "output_type": "stream",
     "text": [
      "abcdef\n",
      "defabc\n",
      "def\n",
      "fabc\n",
      "one and then two and then three and then four\n",
      "['one', 'two', 'three', 'four']\n",
      "Hello Tony \n",
      "Hello Tony, are you cold?\n"
     ]
    }
   ],
   "source": [
    "s1 = 'abc'  # It works\n",
    "s2 = \"def\"  # Either way\n",
    "s3 = \"\"\" This is \n",
    "fine too.\"\"\"\n",
    "# There are four string delimiters: ['], [\"], ['''], [\"\"\"]\n",
    "\n",
    "print(s1 + s2)  # sum = concatenation\n",
    "\n",
    "s3 = s2\n",
    "s2 += s1\n",
    "print(s2)  # Awwwnnnn <3\n",
    "print(s3)  # Strings are immutable!\n",
    "print(s2[-4:])  # Strings are indexable the same as lists (This is profound. Stop and think about this) \n",
    "\n",
    "s4 = ' and then '.join(['one', 'two', 'three', 'four'])  # list elements can be joined together with a string separator\n",
    "print(s4)\n",
    "print(s4.split(' and then '))  # and split back\n",
    "\n",
    "tony = 'Tony'\n",
    "print('Hello %s ' % tony)  # % is a replacement operator. The left hand is a string, the right hand can be a lot of things\n",
    "what = 'cold'\n",
    "print('Hello %s, are you %s?' % (tony, what))  # When making multiple replacements, use a TUPLE in the right hand"
   ]
  },
  {
   "cell_type": "markdown",
   "metadata": {},
   "source": [
    "# 5. For loops"
   ]
  },
  {
   "cell_type": "code",
   "execution_count": 56,
   "metadata": {
    "collapsed": false
   },
   "outputs": [
    {
     "name": "stdout",
     "output_type": "stream",
     "text": [
      "--------- list loop (elements)\n",
      "1\n",
      "2\n",
      "3\n",
      "4\n",
      "5\n",
      "5\n",
      "4\n",
      "3\n",
      "2\n",
      "1\n",
      "0\n",
      "\n",
      "-------- tuple loop (elements)\n",
      "1\n",
      "2\n",
      "3\n",
      "\n",
      "-------- set loop (elements)\n",
      "0\n",
      "1\n",
      "2\n",
      "3\n",
      "4\n",
      "5\n",
      "\n",
      "-------- dictionary loop (keys)\n",
      "a\n",
      "c\n",
      "d\n",
      "(1, 2, 3)\n",
      "\n",
      "-------- string loop (letters, which make sense since you can use [] on strings)\n",
      "r\n",
      "e\n",
      "a\n",
      "l\n",
      "l\n",
      "y\n",
      "?\n",
      "[(1, 'a'), (2, 'c'), (3, 'd'), (4, (1, 2, 3))]\n",
      "i1 = 1, i2 = a\n",
      "i1 = 2, i2 = c\n",
      "i1 = 3, i2 = d\n",
      "i1 = 4, i2 = (1, 2, 3)\n"
     ]
    }
   ],
   "source": [
    "print('--------- list loop (elements)')\n",
    "for i in a:\n",
    "    print(i)\n",
    "\n",
    "print('\\n-------- tuple loop (elements)')\n",
    "for i in t:\n",
    "    print(i)\n",
    "    \n",
    "print('\\n-------- set loop (elements)')\n",
    "for i in sa:\n",
    "    print(i)\n",
    "    \n",
    "print('\\n-------- dictionary loop (keys)')\n",
    "for i in d:\n",
    "    print(i)\n",
    "    \n",
    "print('\\n-------- string loop (letters, which make sense since you can use [] on strings)')\n",
    "for i in 'really?':\n",
    "    print(i)\n",
    "    \n",
    "print(zip(a, d))  # zip produces a LIST of TUPLEs from two or more COLLECTIONS. The resulting size is TRUNCATED.\n",
    "for i1, i2 in zip(a, d):\n",
    "    print ('i1 = %s, i2 = %s' % (i1, i2))"
   ]
  },
  {
   "cell_type": "markdown",
   "metadata": {},
   "source": [
    "# 6. List comprehensions"
   ]
  },
  {
   "cell_type": "code",
   "execution_count": 2,
   "metadata": {
    "collapsed": false
   },
   "outputs": [
    {
     "name": "stdout",
     "output_type": "stream",
     "text": [
      "[0, 1, 4, 9, 16]\nset([0, 1, 4, 16, 9])\n{0: 0, 1: 1, 2: 4, 3: 9, 4: 16}\n"
     ]
    }
   ],
   "source": [
    "lis = [0, 1, 2, 3, 4]\n",
    "\n",
    "lis_squared = [x * x for x in lis]  # list comprehension\n",
    "print(lis_squared)\n",
    "\n",
    "set_squared = {x * x for x in lis}  # set comprehension\n",
    "print(set_squared)\n",
    "\n",
    "dic_squared = {x: x * x for x in lis}  # dictionary comprehension (if even tuples can be dictionary keys, why numbers wouldn't?)\n",
    "print(dic_squared)"
   ]
  },
  {
   "cell_type": "markdown",
   "metadata": {},
   "source": [
    "# 7. Functions and parameters"
   ]
  },
  {
   "cell_type": "code",
   "execution_count": 70,
   "metadata": {
    "collapsed": false
   },
   "outputs": [
    {
     "name": "stdout",
     "output_type": "stream",
     "text": [
      "mysum(1, 1)\n",
      "2\n",
      "mysum(2, 1)\n",
      "3\n",
      "mysum(1, 2)\n",
      "3\n",
      "mysum2([1, 2, 3, 4, 5])\n",
      "15\n",
      "mysum2([10, 20, 30])\n",
      "60\n",
      "concatsum([1], {})\n",
      "('', 1)\n",
      "concatsum([1, 2], {})\n",
      "('', 3)\n",
      "concatsum([1, 2], {'vixe': 10, 'maria': 20})\n",
      "vixemaria\n",
      "33\n"
     ]
    }
   ],
   "source": [
    "def mysum(a, b):  # We don't want to override Python's native sum function, do we?\n",
    "    print('mysum(%s, %s)' % (a, b))\n",
    "    return a + b\n",
    "\n",
    "print(mysum(1, 1))  # Good the sky is still blue \n",
    "print(mysum(b=1, a=2))  # You can choose your parameter passing strategy. Positional (above), or named. \n",
    "print(mysum(1, b=2))  # Or you can mix it a little bit\n",
    "\n",
    "\n",
    "def mysum2(*args):  # One * means: a list of POSITIONAL parameters that will be converted to a TUPLE.\n",
    "    print('mysum2(%s)' % list(args))  # If we leave args as a tuple, \"%\" would try to make 5 replacements but we only have one \"%s\"\n",
    "    return sum(args)  # Python's native sum function takes in a collection, so this is fine\n",
    "\n",
    "print(mysum2(1, 2, 3, 4, 5))\n",
    "params = [10, 20, 30]\n",
    "print(mysum2(*params))  # You can also do this. Here the * will \"unfold\" the params list into a list of parameters\n",
    "\n",
    "\n",
    "def concatsum(*args, **kwargs):  # Two ** means a list of named (KEYWORD) parameters that will be converted to a DICTIONARY\n",
    "    print('concatsum(%s, %s)' % (list(args), kwargs))\n",
    "    numbersum1 = sum(args)\n",
    "    stringsum = ''.join(kwargs.keys())\n",
    "    numbersum2 = sum([kwargs[k] for k in kwargs])  # assuming the named parameters contain numbers\n",
    "    return stringsum, numbersum1 + numbersum2  # Returning a tuple. Don't need () because of the return keyword! \n",
    "    \n",
    "    \n",
    "print(concatsum(1))\n",
    "print(concatsum(1, 2))\n",
    "letters, number = concatsum(1, 2, vixe=10, maria=20)\n",
    "print(letters)\n",
    "print(number)"
   ]
  },
  {
   "cell_type": "markdown",
   "metadata": {},
   "source": [
    "# 8. Classes"
   ]
  },
  {
   "cell_type": "code",
   "execution_count": 4,
   "metadata": {
    "collapsed": true
   },
   "outputs": [
    {
     "name": "stdout",
     "output_type": "stream",
     "text": [
      "1. ----- what is a class ----\n<class '__main__.A'>\n1\n<unbound method A.m>\n\n2. ----- what can you do with it ----\ncalled method 1 (300)\ncalled method 1 (320)\ncalled method 1 (340)\n<bound method A.m of <__main__.A object at 0x7fa08b216a10>>\nFalse\nFalse\n('a3', 3, 22, 340)\n('a2', 2, 21, 320)\n('a1', 3, 20, 300, 4000)\n\n3. ------- inheritance -------\ncalled method 1 (400)\ninside M2\n('b', 3, 30, 400)\n"
     ]
    }
   ],
   "source": [
    "class A(object):\n",
    "    x = 1\n",
    "    \n",
    "    # __init__ (read \"dunder init\" is a special method = the constructor)\n",
    "    # for instance methods, the fisrt argument is always the instance\n",
    "    # As a convention, pythonists name that argument \"self\"\n",
    "    def __init__(self, y):  \n",
    "        self.y = y\n",
    "    \n",
    "    def m(self, z):\n",
    "        print('called method 1 (%s)' % z)\n",
    "        self.z = z\n",
    "\n",
    "print('1. ----- what is a class ----')\n",
    "print(A)  # An object of type class\n",
    "print(A.x)  # this class has x = 1\n",
    "print(A.m)  # it has another attribute called m, which is an UNBOUND method\n",
    "\n",
    "print('\\n2. ----- what can you do with it ----')\n",
    "a1 = A(20)  # A class is a recipe to create objects. \n",
    "a1.m(300)  # a1.m is a BOUND (to an object) method, so we don't need to pass in the first parameter \n",
    "a2 = A(21)\n",
    "A.m(a2, 320)  # This is more or less the same thing as doing a2.m(320)\n",
    "a1.w = 4000  # Adding attributes to objects is permitted (though probably not a very good idea)\n",
    "a2.x = 2\n",
    "A.x = 3  # Next instance of A will have x = 3, but will this change a1 or a2? We'll see (*)\n",
    "a3 = A(22)\n",
    "amethod = a3.m  # Get a reference for a3's BOUND method m\n",
    "amethod(340)  # This will change a3.z (don't try this with javascript!)\n",
    "\n",
    "print(a1.m)  # See? A BOUND method\n",
    "print(a1.m == A.m)  # Those two are not the same object\n",
    "print(a1.m == a2.m)  # UNBOUND method A.m is a recipe for creating BOUND methods \n",
    "print('a3', a3.x, a3.y, a3.z)  # a3.x = 3, ok this makes sense.\n",
    "print('a2', a2.x, a2.y, a2.z)  # a2.x = 2, yeah, we change this one too\n",
    "print('a1', a1.x, a1.y, a1.z, a1.w)  # a1.x = 3?? Why not 1?? Go play with it a little bit and see if you can find out :-)\n",
    "\n",
    "\n",
    "class B(A):  # subclass o A\n",
    "    def __init__(self, y):\n",
    "        super(B, self).__init__(y)  # invoke parent constructor if you want\n",
    "    \n",
    "    def m2(self):\n",
    "        print('inside M2')\n",
    "        \n",
    "print('\\n3. ------- inheritance -------')\n",
    "b = B(30)\n",
    "b.m(400)\n",
    "b.m2()\n",
    "print('b', b.x, b.y, b.z)  # pretty much expected"
   ]
  },
  {
   "cell_type": "markdown",
   "metadata": {},
   "source": [
    "# 9. Magic methods"
   ]
  },
  {
   "cell_type": "code",
   "execution_count": 13,
   "metadata": {
    "collapsed": true
   },
   "outputs": [
    {
     "name": "stdout",
     "output_type": "stream",
     "text": [
      "1. overloading +\nWater(10) + Water(20) = Water(30)\n\n2. callable objects +\nDid you call me?\nmy name is John\n\n3. iterators\n0\n1\n2\n3\n4\n5\n6\n"
     ]
    }
   ],
   "source": [
    "class Water(object):\n",
    "    def __init__(self, liters):\n",
    "        self.liters = liters\n",
    "    \n",
    "    # Read as \"dunder-add\"\n",
    "    def __add__(self, other):  # overloads '+' operator\n",
    "        return Water(self.liters + other.liters)\n",
    "    \n",
    "    def __str__(self):  # used when python needs to convert it to string\n",
    "        return 'Water(%s)' % self.liters\n",
    "\n",
    "w1 = Water(10)\n",
    "w2 = Water(20)\n",
    "wsum = w1 + w2  # python will call __add__ here \n",
    "\n",
    "print('1. overloading +')\n",
    "print('%s + %s = %s' % (w1, w2, wsum))\n",
    "\n",
    "# You can do the same with: *, -, /, %... you can overload everything. EVERYTHING.\n",
    "# Here's another one, let's override '(...)'\n",
    "\n",
    "class Person(object):\n",
    "    def __init__(self, name):\n",
    "        self.name = name\n",
    "    \n",
    "    def whatsyourname(self):\n",
    "        print('my name is %s' % self.name)\n",
    "    \n",
    "    def __call__(self, *args, **kwargs):\n",
    "        print('Did you call me?')\n",
    "\n",
    "print('\\n2. callable objects +')\n",
    "joe = Person('John')\n",
    "joe()\n",
    "joe.whatsyourname()\n",
    "\n",
    "# Is this a function or an object? A wave or a particle? You decide.\n",
    "# Here's another one, let's 'in'\n",
    "\n",
    "class NaturalNumbers(object):\n",
    "    current = 0\n",
    "    \n",
    "    def __iter__(self):\n",
    "        return self\n",
    "    \n",
    "    def next(self):\n",
    "        r = self.current\n",
    "        self.current += 1\n",
    "        return r\n",
    "\n",
    "print('\\n3. iterators')\n",
    "N = NaturalNumbers()\n",
    "for n in N:  # To the infinity, AND BEYOND!\n",
    "    print(n)\n",
    "    if n > 5:\n",
    "        break  # No Buzz, not today\n",
    "\n",
    "# So, the \"in\" operator caused python to invoke __iter__, and expect an iterator as a result\n",
    "# An iterator is supposed to have a \".next()\" (no dunder) method\n",
    "# next() should raise a StopIteration to let the world know it has reached the end.\n",
    "\n",
    "# You can also override:\n",
    "# '.' with __getattr__ and __setattr__ (Django does a good job using this in its ORM)\n",
    "# '[...]' with __getitem__ and __setitem__ (Numpy uses this very well for its matrix object)\n",
    "# pretty much everything\n",
    "# A more complete list of examples: http://www.diveintopython3.net/special-method-names.html"
   ]
  },
  {
   "cell_type": "markdown",
   "metadata": {},
   "source": [
    "# 10. Exceptions"
   ]
  },
  {
   "cell_type": "code",
   "execution_count": 19,
   "metadata": {},
   "outputs": [
    {
     "name": "stdout",
     "output_type": "stream",
     "text": [
      "My name is John\nT? You can't name a Person T!\nWoops, sorry!\nMy name is Travis\n"
     ]
    }
   ],
   "source": [
    "class NameTooShortException(Exception):\n",
    "    def __init__(self, *args, **kwargs):\n",
    "        # super constructor args? Dunno, don't care. The first is probably a string.\n",
    "        super(Exception, self).__init__(*args, **kwargs)   \n",
    "\n",
    "\n",
    "class Person(object):\n",
    "    name = ''\n",
    "    \n",
    "    def setName(self, name):  # This should probably raise PythonIsNotFFingJavaException, don't do it pls.\n",
    "        if len(name) == 1:\n",
    "            raise NameTooShortException(\"%s? You can't name a Person %s!\" % (name, name))\n",
    "        self.name = name\n",
    "        print('My name is %s' % self.name)\n",
    "\n",
    "\n",
    "joe = Person()\n",
    "t = Person()\n",
    "try:\n",
    "    joe.setName('John')\n",
    "    t.setName('T')\n",
    "except NameTooShortException as exc:\n",
    "    print(exc)\n",
    "    print('Woops, sorry!')\n",
    "finally:\n",
    "    t.setName('Travis')\n",
    "\n",
    "# There's more details to exception handling, but there's no need to dig too deep at this point"
   ]
  },
  {
   "cell_type": "markdown",
   "metadata": {},
   "source": [
    "# 11. Generators"
   ]
  },
  {
   "cell_type": "code",
   "execution_count": 28,
   "metadata": {},
   "outputs": [
    {
     "name": "stdout",
     "output_type": "stream",
     "text": [
      "1. ----- Generators - getting started -----\n<generator object generate123 at 0x7fa07af98050>\n1\n2\n3\nEND\nagain: 1\nagain: 2\nagain: 3\n\n2. ----- Producer/Consumer example -----\nproduced 0\nconsumed 0\nproduced 1\nconsumed 1\nproduced 2\nconsumed 2\nI ran out of numbers\nHe ran out of numbers\n"
     ]
    }
   ],
   "source": [
    "def generate123():\n",
    "    yield 1\n",
    "    yield 2\n",
    "    yield 3\n",
    "\n",
    "print('1. ----- Generators - getting started -----')\n",
    "g = generate123()  # Normally this would be None\n",
    "print(g)  # But this is an ITERATOR (see previous section), because of the \"yields\"\n",
    "print(g.next())\n",
    "print(g.next())\n",
    "print(g.next())\n",
    "try:\n",
    "    print(g.next())\n",
    "except StopIteration as exc:\n",
    "    print('END')\n",
    "    \n",
    "# So you can do this\n",
    "for i in generate123():\n",
    "    print('again: %s' % i)\n",
    "    \n",
    "#  Those types of iterators are called GENERATOR FUNCTIONS\n",
    "#  The cool thing about GFs is that they suspend execution \n",
    "#  at each yield point until next's next() invocation.\n",
    "\n",
    "\n",
    "def producer():\n",
    "    i = 0\n",
    "    while i < 3:\n",
    "        print('produced %s' % i)\n",
    "        yield i\n",
    "        i += 1\n",
    "    print('I ran out of numbers')\n",
    "\n",
    "\n",
    "def consumer(itr):\n",
    "    for i in itr:\n",
    "        print('consumed %s' % i)\n",
    "    print('He ran out of numbers')\n",
    "    \n",
    "print('\\n2. ----- Producer/Consumer example -----')\n",
    "p = producer()\n",
    "consumer(p)\n",
    "\n",
    "#  It looks like there are 2 threads running, but it's not the case.\n",
    "#  Every loop iteration on the consumer triggers execution on the producer\n",
    "#  until the next stop (yield).\n",
    "#  This can be useful for example when you need to process large amounts of\n",
    "#  data but you don't want to load it all into memory ;-)"
   ]
  },
  {
   "cell_type": "code",
   "execution_count": null,
   "metadata": {},
   "outputs": [],
   "source": [
    ""
   ]
  }
 ],
 "metadata": {
  "kernelspec": {
   "display_name": "Python 2",
   "language": "python",
   "name": "python2"
  },
  "language_info": {
   "codemirror_mode": {
    "name": "ipython",
    "version": 2.0
   },
   "file_extension": ".py",
   "mimetype": "text/x-python",
   "name": "python",
   "nbconvert_exporter": "python",
   "pygments_lexer": "ipython2",
   "version": "2.7.11+"
  }
 },
 "nbformat": 4,
 "nbformat_minor": 0
}